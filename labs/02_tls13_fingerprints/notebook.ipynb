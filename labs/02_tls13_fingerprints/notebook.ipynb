{
 "cells": [
  {
   "cell_type": "markdown",
   "metadata": {},
   "source": [
    "# Lab 02 — TLS 1.3 fingerprints\n",
    "\n",
    "This notebook summarizes TLS metadata for the lab dataset and prepares `answers.sample.yml`.\n",
    "\n",
    "**What you’ll do**\n",
    "- Parse **Zeek** `ssl.log` for ALPN (field: `next_protocol`).\n",
    "- (Optional) If available, also look at **Suricata** EVE `tls` events.\n",
    "- Identify **anomalous ALPN** (low-share protocols) using the lab's rubric threshold.\n",
    "- Write your `answers.sample.yml` for the autograder.\n",
    "\n",
    "**Note**: The autograder for v1 grades **ALPN anomalies**. JA3 counts are optional here.\n"
   ]
  },
  {
   "cell_type": "markdown",
   "metadata": {},
   "source": [
    "## Paths & environment\n",
    "\n",
    "- In the notebooks container, logs are mounted at `/home/jovyan/logs` and labs at `/home/jovyan/labs`.\n",
    "- If you run this outside the container, it will fall back to `./logs` and `./labs/...` in the repo.\n"
   ]
  },
  {
   "cell_type": "code",
   "execution_count": null,
   "metadata": {},
   "outputs": [],
   "source": [
    "from pathlib import Path\n",
    "import json, yaml\n",
    "from collections import Counter\n",
    "\n",
    "def resolve_path(container_path: str, local_path: str) -> Path:\n",
    "    p = Path(container_path)\n",
    "    return p if p.exists() else Path(local_path)\n",
    "\n",
    "LOGS_DIR = resolve_path(\"/home/jovyan/logs\", \"logs\")\n",
    "LAB_DIR = resolve_path(\"/home/jovyan/labs/02_tls13_fingerprints\", \"labs/02_tls13_fingerprints\")\n",
    "\n",
    "print(\"Using LOGS_DIR:\", LOGS_DIR)\n",
    "print(\"Using LAB_DIR:\", LAB_DIR)\n",
    "print(\"Exists:\", LOGS_DIR.exists(), LAB_DIR.exists())"
   ]
  },
  {
   "cell_type": "markdown",
   "metadata": {},
   "source": [
    "## Count ALPN via Zeek `ssl.log`\n",
    "We prefer Zeek for ALPN in v1. Field name is `next_protocol` (e.g., `h2`, `http/1.1`).\n"
   ]
  },
  {
   "cell_type": "code",
   "execution_count": null,
   "metadata": {},
   "outputs": [],
   "source": [
    "def iter_zeek_tsv(path: Path):\n",
    "    \"\"\"Minimal Zeek TSV reader honoring the `#fields` line.\"\"\"\n",
    "    if not path.exists():\n",
    "        return\n",
    "    fields = None\n",
    "    with path.open(\"r\", encoding=\"utf-8\", errors=\"ignore\") as f:\n",
    "        for line in f:\n",
    "            if line.startswith(\"#fields\"):\n",
    "                fields = line.rstrip(\"\\n\").split(\"\\t\")[1:]\n",
    "                continue\n",
    "            if line.startswith(\"#\") or not line:\n",
    "                continue\n",
    "            parts = line.rstrip(\"\\n\").split(\"\\t\")\n",
    "            if fields and len(parts) == len(fields):\n",
    "                yield dict(zip(fields, parts))\n",
    "\n",
    "ssl_path = LOGS_DIR / \"zeek\" / \"ssl.log\"\n",
    "alpn_counts_zeek = Counter()\n",
    "for row in iter_zeek_tsv(ssl_path):\n",
    "    np = (row.get(\"next_protocol\") or \"\").strip()\n",
    "    if np and np != \"-\":\n",
    "        alpn_counts_zeek[np] += 1\n",
    "\n",
    "alpn_counts_zeek"
   ]
  },
  {
   "cell_type": "markdown",
   "metadata": {},
   "source": [
    "## (Optional) Suricata EVE TLS — fallback only\n",
    "If your environment emits `event_type: tls`, we can also read ALPN from there.\n",
    "- Some builds/configs only emit flow classification (with `app_proto: tls`).\n",
    "- The autograder prefers Zeek; Suricata is used as a fallback if present.\n"
   ]
  },
  {
   "cell_type": "code",
   "execution_count": null,
   "metadata": {},
   "outputs": [],
   "source": [
    "alpn_counts_eve = Counter()\n",
    "eve_path = LOGS_DIR / \"suricata\" / \"eve.json\"\n",
    "if eve_path.exists():\n",
    "    with eve_path.open(\"r\", encoding=\"utf-8\", errors=\"ignore\") as f:\n",
    "        for line in f:\n",
    "            try:\n",
    "                obj = json.loads(line)\n",
    "            except Exception:\n",
    "                continue\n",
    "            if obj.get(\"event_type\") != \"tls\":\n",
    "                continue\n",
    "            t = obj.get(\"tls\", {}) or {}\n",
    "            a_single = t.get(\"alpn\")\n",
    "            if isinstance(a_single, str) and a_single:\n",
    "                alpn_counts_eve[a_single] += 1\n",
    "            a_list = t.get(\"client_alpns\")\n",
    "            if isinstance(a_list, list):\n",
    "                for a in a_list:\n",
    "                    if isinstance(a, str) and a:\n",
    "                        alpn_counts_eve[a] += 1\n",
    "            elif isinstance(a_list, str) and a_list:\n",
    "                alpn_counts_eve[a_list] += 1\n",
    "\n",
    "alpn_counts_eve if alpn_counts_eve else \"(no Suricata TLS EVE events found — this is OK)\""
   ]
  },
  {
   "cell_type": "markdown",
   "metadata": {},
   "source": [
    "## Choose source & compute anomalies\n",
    "We choose Zeek if it has ALPNs; otherwise we fall back to Suricata TLS EVE (if present). Then we compute anomalies using the lab rubric threshold (`checks.alpn_min_share`).\n"
   ]
  },
  {
   "cell_type": "code",
   "execution_count": null,
   "metadata": {},
   "outputs": [],
   "source": [
    "alpn_counts = dict(alpn_counts_zeek) if alpn_counts_zeek else dict(alpn_counts_eve)\n",
    "source = \"zeek ssl.log\" if alpn_counts_zeek else (\"suricata eve.json\" if alpn_counts_eve else \"none\")\n",
    "print(\"Using source:\", source)\n",
    "print(\"ALPN counts:\", alpn_counts)\n",
    "\n",
    "rubric_path = LAB_DIR / \"rubric.yml\"\n",
    "rubric = yaml.safe_load(rubric_path.read_text()) if rubric_path.exists() else {\"checks\": {\"alpn_min_share\": 0.15}}\n",
    "threshold = float(rubric[\"checks\"][\"alpn_min_share\"]) if rubric and \"checks\" in rubric else 0.15\n",
    "total = sum(alpn_counts.values())\n",
    "anomalies = sorted([k for k, v in alpn_counts.items() if total and (v/total) < threshold])\n",
    "print(\"Threshold:\", threshold)\n",
    "print(\"Anomalous ALPN:\", anomalies)\n",
    "anomalies"
   ]
  },
  {
   "cell_type": "markdown",
   "metadata": {},
   "source": [
    "## (Optional) JA3 top‑N (only if Suricata TLS EVE exists)\n",
    "Not graded in v1, but you can inspect if your EVE contains `tls.ja3`.\n"
   ]
  },
  {
   "cell_type": "code",
   "execution_count": null,
   "metadata": {},
   "outputs": [],
   "source": [
    "ja3_counts = Counter()\n",
    "if eve_path.exists():\n",
    "    with eve_path.open(\"r\", encoding=\"utf-8\", errors=\"ignore\") as f:\n",
    "        for line in f:\n",
    "            try:\n",
    "                obj = json.loads(line)\n",
    "            except Exception:\n",
    "                continue\n",
    "            if obj.get(\"event_type\") != \"tls\":\n",
    "                continue\n",
    "            t = obj.get(\"tls\", {}) or {}\n",
    "            j = t.get(\"ja3\")\n",
    "            if isinstance(j, str) and j:\n",
    "                ja3_counts[j] += 1\n",
    "            elif isinstance(j, dict) and j.get(\"hash\"):\n",
    "                ja3_counts[j[\"hash\"]] += 1\n",
    "ja3_counts.most_common(5) if ja3_counts else \"(no JA3 observed — this is OK for v1)\""
   ]
  },
  {
   "cell_type": "markdown",
   "metadata": {},
   "source": [
    "## Write `answers.sample.yml`\n",
    "This writes your computed anomalies to the lab folder. You can edit before grading if desired.\n"
   ]
  },
  {
   "cell_type": "code",
   "execution_count": null,
   "metadata": {},
   "outputs": [],
   "source": [
    "answers = {\n",
    "    \"top_ja3\": [],  # optional in v1 grading\n",
    "    \"anomalous_alpn\": anomalies,\n",
    "}\n",
    "out_path = LAB_DIR / \"answers.sample.yml\"\n",
    "with out_path.open(\"w\") as f:\n",
    "    yaml.safe_dump(answers, f, sort_keys=False)\n",
    "print(\"Wrote:\", out_path)"
   ]
  },
  {
   "cell_type": "markdown",
   "metadata": {},
   "source": [
    "### Next steps\n",
    "1. Ensure your logs exist (rerun the stack if needed):\n",
    "   ```bash\n",
    "   docker compose -f compose/docker-compose.lite.yml up --build\n",
    "   ```\n",
    "2. Grade locally:\n",
    "   ```bash\n",
    "   labgrade labs/02_tls13_fingerprints labs/02_tls13_fingerprints/answers.sample.yml --logs ./logs\n",
    "   ```\n",
    "3. Expected for the synthetic dataset: `acme-tls/1` should be flagged anomalous.\n"
   ]
  }
 ],
 "metadata": {
  "kernelspec": {
   "display_name": "Python 3",
   "language": "python",
   "name": "python3"
  },
  "language_info": {
   "name": "python",
   "pygments_lexer": "ipython3"
  }
 },
 "nbformat": 4,
 "nbformat_minor": 5
}
